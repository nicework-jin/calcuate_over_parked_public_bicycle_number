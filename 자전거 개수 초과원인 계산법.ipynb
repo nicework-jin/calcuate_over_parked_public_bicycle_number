{
 "cells": [
  {
   "cell_type": "code",
   "execution_count": 23,
   "metadata": {},
   "outputs": [],
   "source": [
    "import pandas as pd\n",
    "\n",
    "from tqdm import tqdm_notebook\n",
    "\n",
    "import matplotlib.pyplot as plt\n",
    "%matplotlib inline\n",
    "import seaborn as sns\n",
    "\n",
    "# matplot에서 한글폰트 깨짐현상 해결\n",
    "import platform\n",
    "import matplotlib.pyplot as plt\n",
    "from matplotlib import font_manager, rc\n",
    "plt.rcParams['axes.unicode_minus'] = False\n",
    "\n",
    "path = 'c://Windows/Fonts/malgun.ttf'\n",
    "\n",
    "font_name = font_manager.FontProperties(fname=path).get_name()\n",
    "rc('font', family=font_name)"
   ]
  },
  {
   "cell_type": "code",
   "execution_count": 24,
   "metadata": {},
   "outputs": [],
   "source": [
    "통합데이터 = pd.read_csv(\"../data/통합데이터.csv\")"
   ]
  },
  {
   "cell_type": "code",
   "execution_count": 25,
   "metadata": {},
   "outputs": [],
   "source": [
    "통합데이터_피벗 = pd.pivot_table(통합데이터, index=[\"대여소명\",\"시\",\"거치대총개수\"], values=\"거치수량\")\n",
    "통합데이터_피벗.reset_index(inplace=True)"
   ]
  },
  {
   "cell_type": "code",
   "execution_count": 26,
   "metadata": {},
   "outputs": [],
   "source": [
    "대여소명 = 통합데이터_피벗[\"대여소명\"].unique()"
   ]
  },
  {
   "cell_type": "markdown",
   "metadata": {},
   "source": [
    "## 거치초과율 계산"
   ]
  },
  {
   "cell_type": "code",
   "execution_count": 27,
   "metadata": {},
   "outputs": [],
   "source": [
    "거치초과율 = []\n",
    "거치초과량 = []\n",
    "거치이하량 = []\n",
    "거치대총개수 = []\n",
    "for i in 대여소명:\n",
    "    tmp = 통합데이터_피벗[통합데이터_피벗[\"대여소명\"] == i] \n",
    "    거치초과량_ = len(tmp[tmp[\"거치수량\"] > tmp[\"거치대총개수\"].iloc[0]])\n",
    "    거치이하량_ = len(tmp[tmp[\"거치수량\"] <= tmp[\"거치대총개수\"].iloc[0]])\n",
    "    \n",
    "    거치초과량.append(거치초과량_)\n",
    "    거치이하량.append(거치이하량_)\n",
    "    \n",
    "    거치대총개수.append(tmp[\"거치대총개수\"].iloc[0])\n",
    "    거치초과율.append(거치초과량_/(거치초과량_+거치이하량_))"
   ]
  },
  {
   "cell_type": "code",
   "execution_count": 28,
   "metadata": {},
   "outputs": [],
   "source": [
    "대여소별특성1 = pd.DataFrame({\"대여소명\":대여소명, \"거치초과율\":거치초과율,\"거치대총개수\":거치대총개수})"
   ]
  },
  {
   "cell_type": "code",
   "execution_count": 29,
   "metadata": {},
   "outputs": [],
   "source": [
    "tmp__ = pd.DataFrame({\"대여소명\":대여소명, \"거치초과율\":거치초과율,\"거치초과량\":거치초과량,\"거치이하량\":거치이하량,\"거치대총개수\":거치대총개수})"
   ]
  },
  {
   "cell_type": "code",
   "execution_count": 30,
   "metadata": {},
   "outputs": [
    {
     "data": {
      "text/html": [
       "<div>\n",
       "<style scoped>\n",
       "    .dataframe tbody tr th:only-of-type {\n",
       "        vertical-align: middle;\n",
       "    }\n",
       "\n",
       "    .dataframe tbody tr th {\n",
       "        vertical-align: top;\n",
       "    }\n",
       "\n",
       "    .dataframe thead th {\n",
       "        text-align: right;\n",
       "    }\n",
       "</style>\n",
       "<table border=\"1\" class=\"dataframe\">\n",
       "  <thead>\n",
       "    <tr style=\"text-align: right;\">\n",
       "      <th></th>\n",
       "      <th>대여소명</th>\n",
       "      <th>거치초과율</th>\n",
       "      <th>거치초과량</th>\n",
       "      <th>거치이하량</th>\n",
       "      <th>거치대총개수</th>\n",
       "    </tr>\n",
       "  </thead>\n",
       "  <tbody>\n",
       "    <tr>\n",
       "      <th>0</th>\n",
       "      <td>강변역 4번출구 뒤</td>\n",
       "      <td>0.000000</td>\n",
       "      <td>0</td>\n",
       "      <td>24</td>\n",
       "      <td>19</td>\n",
       "    </tr>\n",
       "    <tr>\n",
       "      <th>1</th>\n",
       "      <td>건국대학교 (입학정보관)</td>\n",
       "      <td>0.166667</td>\n",
       "      <td>4</td>\n",
       "      <td>20</td>\n",
       "      <td>10</td>\n",
       "    </tr>\n",
       "    <tr>\n",
       "      <th>2</th>\n",
       "      <td>건국대학교 (행정관)</td>\n",
       "      <td>0.208333</td>\n",
       "      <td>5</td>\n",
       "      <td>19</td>\n",
       "      <td>5</td>\n",
       "    </tr>\n",
       "    <tr>\n",
       "      <th>3</th>\n",
       "      <td>건국대학교 과학관(이과대) 앞</td>\n",
       "      <td>0.333333</td>\n",
       "      <td>8</td>\n",
       "      <td>16</td>\n",
       "      <td>10</td>\n",
       "    </tr>\n",
       "    <tr>\n",
       "      <th>4</th>\n",
       "      <td>건국대학교 학생회관</td>\n",
       "      <td>0.250000</td>\n",
       "      <td>6</td>\n",
       "      <td>18</td>\n",
       "      <td>15</td>\n",
       "    </tr>\n",
       "    <tr>\n",
       "      <th>5</th>\n",
       "      <td>광나루역 3번 출구</td>\n",
       "      <td>0.000000</td>\n",
       "      <td>0</td>\n",
       "      <td>24</td>\n",
       "      <td>10</td>\n",
       "    </tr>\n",
       "    <tr>\n",
       "      <th>6</th>\n",
       "      <td>광남중학교</td>\n",
       "      <td>0.000000</td>\n",
       "      <td>0</td>\n",
       "      <td>24</td>\n",
       "      <td>20</td>\n",
       "    </tr>\n",
       "    <tr>\n",
       "      <th>7</th>\n",
       "      <td>광양중학교 앞</td>\n",
       "      <td>0.000000</td>\n",
       "      <td>0</td>\n",
       "      <td>24</td>\n",
       "      <td>10</td>\n",
       "    </tr>\n",
       "    <tr>\n",
       "      <th>8</th>\n",
       "      <td>광진경찰서</td>\n",
       "      <td>0.500000</td>\n",
       "      <td>12</td>\n",
       "      <td>12</td>\n",
       "      <td>10</td>\n",
       "    </tr>\n",
       "    <tr>\n",
       "      <th>9</th>\n",
       "      <td>광진광장 교통섬</td>\n",
       "      <td>0.000000</td>\n",
       "      <td>0</td>\n",
       "      <td>24</td>\n",
       "      <td>20</td>\n",
       "    </tr>\n",
       "    <tr>\n",
       "      <th>10</th>\n",
       "      <td>광진구의회 앞</td>\n",
       "      <td>0.000000</td>\n",
       "      <td>0</td>\n",
       "      <td>24</td>\n",
       "      <td>15</td>\n",
       "    </tr>\n",
       "    <tr>\n",
       "      <th>11</th>\n",
       "      <td>광진구청 앞</td>\n",
       "      <td>0.000000</td>\n",
       "      <td>0</td>\n",
       "      <td>24</td>\n",
       "      <td>10</td>\n",
       "    </tr>\n",
       "    <tr>\n",
       "      <th>12</th>\n",
       "      <td>광진메디칼 앞</td>\n",
       "      <td>0.000000</td>\n",
       "      <td>0</td>\n",
       "      <td>24</td>\n",
       "      <td>10</td>\n",
       "    </tr>\n",
       "    <tr>\n",
       "      <th>13</th>\n",
       "      <td>광진유진스웰</td>\n",
       "      <td>0.000000</td>\n",
       "      <td>0</td>\n",
       "      <td>24</td>\n",
       "      <td>20</td>\n",
       "    </tr>\n",
       "    <tr>\n",
       "      <th>14</th>\n",
       "      <td>광진청소년수련관</td>\n",
       "      <td>0.583333</td>\n",
       "      <td>14</td>\n",
       "      <td>10</td>\n",
       "      <td>10</td>\n",
       "    </tr>\n",
       "    <tr>\n",
       "      <th>15</th>\n",
       "      <td>구의3동주민센터</td>\n",
       "      <td>0.000000</td>\n",
       "      <td>0</td>\n",
       "      <td>24</td>\n",
       "      <td>10</td>\n",
       "    </tr>\n",
       "    <tr>\n",
       "      <th>16</th>\n",
       "      <td>구의공원(테크노마트 앞)</td>\n",
       "      <td>0.000000</td>\n",
       "      <td>0</td>\n",
       "      <td>24</td>\n",
       "      <td>20</td>\n",
       "    </tr>\n",
       "    <tr>\n",
       "      <th>17</th>\n",
       "      <td>구의문주차장 앞</td>\n",
       "      <td>0.250000</td>\n",
       "      <td>6</td>\n",
       "      <td>18</td>\n",
       "      <td>10</td>\n",
       "    </tr>\n",
       "    <tr>\n",
       "      <th>18</th>\n",
       "      <td>구의삼성쉐르빌 앞</td>\n",
       "      <td>0.625000</td>\n",
       "      <td>15</td>\n",
       "      <td>9</td>\n",
       "      <td>10</td>\n",
       "    </tr>\n",
       "    <tr>\n",
       "      <th>19</th>\n",
       "      <td>구의아리수정수센터앞</td>\n",
       "      <td>0.000000</td>\n",
       "      <td>0</td>\n",
       "      <td>24</td>\n",
       "      <td>10</td>\n",
       "    </tr>\n",
       "    <tr>\n",
       "      <th>20</th>\n",
       "      <td>국립정신 건강센터 앞</td>\n",
       "      <td>0.000000</td>\n",
       "      <td>0</td>\n",
       "      <td>24</td>\n",
       "      <td>20</td>\n",
       "    </tr>\n",
       "    <tr>\n",
       "      <th>21</th>\n",
       "      <td>군자교교차로</td>\n",
       "      <td>0.000000</td>\n",
       "      <td>0</td>\n",
       "      <td>24</td>\n",
       "      <td>10</td>\n",
       "    </tr>\n",
       "    <tr>\n",
       "      <th>22</th>\n",
       "      <td>군자역 7번출구 베스트샵 앞</td>\n",
       "      <td>0.500000</td>\n",
       "      <td>12</td>\n",
       "      <td>12</td>\n",
       "      <td>8</td>\n",
       "    </tr>\n",
       "    <tr>\n",
       "      <th>23</th>\n",
       "      <td>군자역2번출구</td>\n",
       "      <td>0.000000</td>\n",
       "      <td>0</td>\n",
       "      <td>24</td>\n",
       "      <td>10</td>\n",
       "    </tr>\n",
       "    <tr>\n",
       "      <th>24</th>\n",
       "      <td>대림아크로리버 앞</td>\n",
       "      <td>0.000000</td>\n",
       "      <td>0</td>\n",
       "      <td>24</td>\n",
       "      <td>10</td>\n",
       "    </tr>\n",
       "    <tr>\n",
       "      <th>25</th>\n",
       "      <td>더샵스타시티 C동 앞</td>\n",
       "      <td>0.000000</td>\n",
       "      <td>0</td>\n",
       "      <td>24</td>\n",
       "      <td>15</td>\n",
       "    </tr>\n",
       "    <tr>\n",
       "      <th>26</th>\n",
       "      <td>뚝섬유원지역 1번출구 앞</td>\n",
       "      <td>0.041667</td>\n",
       "      <td>1</td>\n",
       "      <td>23</td>\n",
       "      <td>15</td>\n",
       "    </tr>\n",
       "    <tr>\n",
       "      <th>27</th>\n",
       "      <td>세종대학교</td>\n",
       "      <td>0.000000</td>\n",
       "      <td>0</td>\n",
       "      <td>24</td>\n",
       "      <td>15</td>\n",
       "    </tr>\n",
       "    <tr>\n",
       "      <th>28</th>\n",
       "      <td>세종사이버대학교</td>\n",
       "      <td>0.000000</td>\n",
       "      <td>0</td>\n",
       "      <td>24</td>\n",
       "      <td>20</td>\n",
       "    </tr>\n",
       "    <tr>\n",
       "      <th>29</th>\n",
       "      <td>신양초교앞 교차로</td>\n",
       "      <td>0.000000</td>\n",
       "      <td>0</td>\n",
       "      <td>24</td>\n",
       "      <td>12</td>\n",
       "    </tr>\n",
       "    <tr>\n",
       "      <th>30</th>\n",
       "      <td>신자초교입구교차로</td>\n",
       "      <td>0.708333</td>\n",
       "      <td>17</td>\n",
       "      <td>7</td>\n",
       "      <td>5</td>\n",
       "    </tr>\n",
       "    <tr>\n",
       "      <th>31</th>\n",
       "      <td>아차산역 3번출구</td>\n",
       "      <td>0.458333</td>\n",
       "      <td>11</td>\n",
       "      <td>13</td>\n",
       "      <td>10</td>\n",
       "    </tr>\n",
       "    <tr>\n",
       "      <th>32</th>\n",
       "      <td>아차산역4번출구</td>\n",
       "      <td>0.000000</td>\n",
       "      <td>0</td>\n",
       "      <td>24</td>\n",
       "      <td>20</td>\n",
       "    </tr>\n",
       "    <tr>\n",
       "      <th>33</th>\n",
       "      <td>어린이대공원역 3번출구 앞</td>\n",
       "      <td>0.000000</td>\n",
       "      <td>0</td>\n",
       "      <td>24</td>\n",
       "      <td>10</td>\n",
       "    </tr>\n",
       "    <tr>\n",
       "      <th>34</th>\n",
       "      <td>어린이대공원역6번출구</td>\n",
       "      <td>0.000000</td>\n",
       "      <td>0</td>\n",
       "      <td>24</td>\n",
       "      <td>20</td>\n",
       "    </tr>\n",
       "    <tr>\n",
       "      <th>35</th>\n",
       "      <td>어린이회관</td>\n",
       "      <td>0.000000</td>\n",
       "      <td>0</td>\n",
       "      <td>24</td>\n",
       "      <td>25</td>\n",
       "    </tr>\n",
       "    <tr>\n",
       "      <th>36</th>\n",
       "      <td>영동대교 북단</td>\n",
       "      <td>0.000000</td>\n",
       "      <td>0</td>\n",
       "      <td>24</td>\n",
       "      <td>10</td>\n",
       "    </tr>\n",
       "    <tr>\n",
       "      <th>37</th>\n",
       "      <td>용마사거리</td>\n",
       "      <td>0.416667</td>\n",
       "      <td>10</td>\n",
       "      <td>14</td>\n",
       "      <td>10</td>\n",
       "    </tr>\n",
       "    <tr>\n",
       "      <th>38</th>\n",
       "      <td>원일교회</td>\n",
       "      <td>0.000000</td>\n",
       "      <td>0</td>\n",
       "      <td>24</td>\n",
       "      <td>8</td>\n",
       "    </tr>\n",
       "    <tr>\n",
       "      <th>39</th>\n",
       "      <td>자양나들목</td>\n",
       "      <td>0.375000</td>\n",
       "      <td>9</td>\n",
       "      <td>15</td>\n",
       "      <td>20</td>\n",
       "    </tr>\n",
       "    <tr>\n",
       "      <th>40</th>\n",
       "      <td>자양사거리 광진아크로텔 앞</td>\n",
       "      <td>0.000000</td>\n",
       "      <td>0</td>\n",
       "      <td>24</td>\n",
       "      <td>10</td>\n",
       "    </tr>\n",
       "    <tr>\n",
       "      <th>41</th>\n",
       "      <td>자양중앙나들목</td>\n",
       "      <td>0.625000</td>\n",
       "      <td>15</td>\n",
       "      <td>9</td>\n",
       "      <td>5</td>\n",
       "    </tr>\n",
       "    <tr>\n",
       "      <th>42</th>\n",
       "      <td>잠실대교북단 교차로</td>\n",
       "      <td>0.291667</td>\n",
       "      <td>7</td>\n",
       "      <td>17</td>\n",
       "      <td>8</td>\n",
       "    </tr>\n",
       "    <tr>\n",
       "      <th>43</th>\n",
       "      <td>중곡 성원APT 앞</td>\n",
       "      <td>0.000000</td>\n",
       "      <td>0</td>\n",
       "      <td>24</td>\n",
       "      <td>10</td>\n",
       "    </tr>\n",
       "    <tr>\n",
       "      <th>44</th>\n",
       "      <td>중곡SK아파트앞</td>\n",
       "      <td>0.000000</td>\n",
       "      <td>0</td>\n",
       "      <td>24</td>\n",
       "      <td>10</td>\n",
       "    </tr>\n",
       "    <tr>\n",
       "      <th>45</th>\n",
       "      <td>중곡역 1번출구</td>\n",
       "      <td>0.000000</td>\n",
       "      <td>0</td>\n",
       "      <td>24</td>\n",
       "      <td>15</td>\n",
       "    </tr>\n",
       "    <tr>\n",
       "      <th>46</th>\n",
       "      <td>중앙농협 중곡지점</td>\n",
       "      <td>0.000000</td>\n",
       "      <td>0</td>\n",
       "      <td>24</td>\n",
       "      <td>10</td>\n",
       "    </tr>\n",
       "    <tr>\n",
       "      <th>47</th>\n",
       "      <td>현대홈타운 뒷길</td>\n",
       "      <td>0.000000</td>\n",
       "      <td>0</td>\n",
       "      <td>24</td>\n",
       "      <td>10</td>\n",
       "    </tr>\n",
       "    <tr>\n",
       "      <th>48</th>\n",
       "      <td>화양사거리</td>\n",
       "      <td>0.000000</td>\n",
       "      <td>0</td>\n",
       "      <td>24</td>\n",
       "      <td>10</td>\n",
       "    </tr>\n",
       "  </tbody>\n",
       "</table>\n",
       "</div>"
      ],
      "text/plain": [
       "                대여소명     거치초과율  거치초과량  거치이하량  거치대총개수\n",
       "0         강변역 4번출구 뒤  0.000000      0     24      19\n",
       "1      건국대학교 (입학정보관)  0.166667      4     20      10\n",
       "2        건국대학교 (행정관)  0.208333      5     19       5\n",
       "3   건국대학교 과학관(이과대) 앞  0.333333      8     16      10\n",
       "4         건국대학교 학생회관  0.250000      6     18      15\n",
       "5         광나루역 3번 출구  0.000000      0     24      10\n",
       "6              광남중학교  0.000000      0     24      20\n",
       "7            광양중학교 앞  0.000000      0     24      10\n",
       "8              광진경찰서  0.500000     12     12      10\n",
       "9           광진광장 교통섬  0.000000      0     24      20\n",
       "10           광진구의회 앞  0.000000      0     24      15\n",
       "11            광진구청 앞  0.000000      0     24      10\n",
       "12           광진메디칼 앞  0.000000      0     24      10\n",
       "13            광진유진스웰  0.000000      0     24      20\n",
       "14          광진청소년수련관  0.583333     14     10      10\n",
       "15          구의3동주민센터  0.000000      0     24      10\n",
       "16     구의공원(테크노마트 앞)  0.000000      0     24      20\n",
       "17          구의문주차장 앞  0.250000      6     18      10\n",
       "18         구의삼성쉐르빌 앞  0.625000     15      9      10\n",
       "19        구의아리수정수센터앞  0.000000      0     24      10\n",
       "20       국립정신 건강센터 앞  0.000000      0     24      20\n",
       "21            군자교교차로  0.000000      0     24      10\n",
       "22   군자역 7번출구 베스트샵 앞  0.500000     12     12       8\n",
       "23           군자역2번출구  0.000000      0     24      10\n",
       "24         대림아크로리버 앞  0.000000      0     24      10\n",
       "25       더샵스타시티 C동 앞  0.000000      0     24      15\n",
       "26     뚝섬유원지역 1번출구 앞  0.041667      1     23      15\n",
       "27             세종대학교  0.000000      0     24      15\n",
       "28          세종사이버대학교  0.000000      0     24      20\n",
       "29         신양초교앞 교차로  0.000000      0     24      12\n",
       "30         신자초교입구교차로  0.708333     17      7       5\n",
       "31         아차산역 3번출구  0.458333     11     13      10\n",
       "32          아차산역4번출구  0.000000      0     24      20\n",
       "33    어린이대공원역 3번출구 앞  0.000000      0     24      10\n",
       "34       어린이대공원역6번출구  0.000000      0     24      20\n",
       "35             어린이회관  0.000000      0     24      25\n",
       "36           영동대교 북단  0.000000      0     24      10\n",
       "37             용마사거리  0.416667     10     14      10\n",
       "38              원일교회  0.000000      0     24       8\n",
       "39             자양나들목  0.375000      9     15      20\n",
       "40    자양사거리 광진아크로텔 앞  0.000000      0     24      10\n",
       "41           자양중앙나들목  0.625000     15      9       5\n",
       "42        잠실대교북단 교차로  0.291667      7     17       8\n",
       "43        중곡 성원APT 앞  0.000000      0     24      10\n",
       "44          중곡SK아파트앞  0.000000      0     24      10\n",
       "45          중곡역 1번출구  0.000000      0     24      15\n",
       "46         중앙농협 중곡지점  0.000000      0     24      10\n",
       "47          현대홈타운 뒷길  0.000000      0     24      10\n",
       "48             화양사거리  0.000000      0     24      10"
      ]
     },
     "execution_count": 30,
     "metadata": {},
     "output_type": "execute_result"
    }
   ],
   "source": [
    "tmp__"
   ]
  },
  {
   "cell_type": "markdown",
   "metadata": {},
   "source": [
    "## Solution 적용"
   ]
  },
  {
   "cell_type": "code",
   "execution_count": 31,
   "metadata": {},
   "outputs": [],
   "source": [
    "import numpy as np\n",
    "import math"
   ]
  },
  {
   "cell_type": "code",
   "execution_count": 32,
   "metadata": {},
   "outputs": [],
   "source": [
    "보정거치대개수 = []\n",
    "거치대총개수 = []\n",
    "\n",
    "for i in 대여소명:\n",
    "    tmp = 통합데이터[통합데이터[\"대여소명\"] == i]\n",
    "    tmp2 = pd.pivot_table(data=tmp, index=[\"시\"],values=\"거치수량\")-tmp[\"거치대총개수\"].iloc[0]\n",
    "    추가_거치대개수 = round(np.mean(tmp2[tmp2[\"거치수량\"]>=0])).iloc[0]\n",
    "\n",
    "    if math.isnan(추가_거치대개수) ==True:\n",
    "        추가_거치대개수=0\n",
    "    거치대총개수.append(tmp[\"거치대총개수\"].iloc[0])   \n",
    "    보정거치대개수.append(추가_거치대개수 + tmp[\"거치대총개수\"].iloc[0])"
   ]
  },
  {
   "cell_type": "code",
   "execution_count": 33,
   "metadata": {},
   "outputs": [],
   "source": [
    "대여소별특성2 = pd.DataFrame({\"대여소명\":대여소명,\"보정거치대개수\":보정거치대개수})"
   ]
  },
  {
   "cell_type": "markdown",
   "metadata": {},
   "source": [
    "## 보정 후 거치초과율 계산"
   ]
  },
  {
   "cell_type": "code",
   "execution_count": 34,
   "metadata": {},
   "outputs": [],
   "source": [
    "통합데이터_피벗 = pd.merge(통합데이터_피벗, 대여소별특성2)"
   ]
  },
  {
   "cell_type": "code",
   "execution_count": 35,
   "metadata": {},
   "outputs": [],
   "source": [
    "보정거치초과율 = []\n",
    "\n",
    "for i in 대여소명:\n",
    "    tmp = 통합데이터_피벗[통합데이터_피벗[\"대여소명\"] == i] \n",
    "    거치초과량 = len(tmp[tmp[\"거치수량\"] > tmp[\"보정거치대개수\"].iloc[0]])\n",
    "    거치이하량 = len(tmp[tmp[\"거치수량\"] <= tmp[\"보정거치대개수\"].iloc[0]])\n",
    "\n",
    "    보정거치초과율.append(거치초과량/(거치초과량+거치이하량))\n",
    "    "
   ]
  },
  {
   "cell_type": "code",
   "execution_count": 36,
   "metadata": {},
   "outputs": [],
   "source": [
    "대여소별특성3 = pd.DataFrame({\"대여소명\":대여소명,\"보정거치초과율\":보정거치초과율})"
   ]
  },
  {
   "cell_type": "markdown",
   "metadata": {},
   "source": [
    "## 대여소별 상관계수"
   ]
  },
  {
   "cell_type": "code",
   "execution_count": 37,
   "metadata": {},
   "outputs": [],
   "source": [
    "상관계수 = []\n",
    "for i in 대여소명:\n",
    "    tmp = 통합데이터[통합데이터[\"대여소명\"] == i]\n",
    "    tmp2 = np.corrcoef(tmp[\"반납수\"], tmp[\"대여수\"])[0,1]\n",
    "    상관계수.append(tmp2)"
   ]
  },
  {
   "cell_type": "code",
   "execution_count": 38,
   "metadata": {},
   "outputs": [],
   "source": [
    "대여소별특성4 = pd.DataFrame({\"대여소명\":대여소명,\"상관계수\":상관계수})"
   ]
  },
  {
   "cell_type": "code",
   "execution_count": 39,
   "metadata": {},
   "outputs": [],
   "source": [
    "중곡지점 = 통합데이터[통합데이터[\"대여소명\"] == \"중앙농협 중곡지점\"]"
   ]
  },
  {
   "cell_type": "markdown",
   "metadata": {},
   "source": [
    "## 반납율 & 대여율"
   ]
  },
  {
   "cell_type": "code",
   "execution_count": 47,
   "metadata": {},
   "outputs": [],
   "source": [
    "이용율 = pd.pivot_table(data=통합데이터, index=[\"대여소명\"], values=[\"반납수\",\"대여수\"], aggfunc=\"sum\")\n",
    "이용율.reset_index(inplace=True)"
   ]
  },
  {
   "cell_type": "code",
   "execution_count": 48,
   "metadata": {},
   "outputs": [],
   "source": [
    "이용율[\"반납율\"] = 이용율[\"반납수\"] / (이용율[\"반납수\"]+이용율[\"대여수\"])\n",
    "이용율[\"대여율\"] = 이용율[\"대여수\"] / (이용율[\"반납수\"]+이용율[\"대여수\"])"
   ]
  },
  {
   "cell_type": "code",
   "execution_count": 49,
   "metadata": {},
   "outputs": [],
   "source": [
    "대여소별특성5= 이용율[[\"대여소명\",\"반납율\",\"대여율\"]]"
   ]
  },
  {
   "cell_type": "markdown",
   "metadata": {},
   "source": [
    "## 대여소별특성 1,2,3,4,5 병합"
   ]
  },
  {
   "cell_type": "code",
   "execution_count": 50,
   "metadata": {},
   "outputs": [],
   "source": [
    "대여소별특성 = pd.merge(대여소별특성1, 대여소별특성2, on=\"대여소명\")\n",
    "대여소별특성 = pd.merge(대여소별특성, 대여소별특성3, on=\"대여소명\")\n",
    "대여소별특성 = pd.merge(대여소별특성, 대여소별특성4, on=\"대여소명\")\n",
    "대여소별특성 = pd.merge(대여소별특성, 대여소별특성5, on=\"대여소명\")"
   ]
  },
  {
   "cell_type": "code",
   "execution_count": 51,
   "metadata": {},
   "outputs": [],
   "source": [
    "대여소별특성= 대여소별특성.sort_values(\"보정거치초과율\",ascending=False)"
   ]
  },
  {
   "cell_type": "markdown",
   "metadata": {},
   "source": [
    "## 자전거 거치대수 이회차 보정(Solution 재활용)"
   ]
  },
  {
   "cell_type": "code",
   "execution_count": 52,
   "metadata": {},
   "outputs": [],
   "source": [
    "통합데이터 = pd.merge(통합데이터,대여소별특성2,on=\"대여소명\")"
   ]
  },
  {
   "cell_type": "code",
   "execution_count": 53,
   "metadata": {},
   "outputs": [],
   "source": [
    "이회_보정거치대개수 = []\n",
    "\n",
    "for i in 대여소명:\n",
    "    tmp = 통합데이터[통합데이터[\"대여소명\"] == i]\n",
    "    tmp2 = pd.pivot_table(data=tmp, index=[\"시\"],values=\"거치수량\")-tmp[\"보정거치대개수\"].iloc[0]\n",
    "    추가_거치대개수 = round(np.mean(tmp2[tmp2[\"거치수량\"]>=0])).iloc[0]\n",
    "\n",
    "    if math.isnan(추가_거치대개수) ==True:\n",
    "        추가_거치대개수=0\n",
    "        \n",
    "    이회_보정거치대개수.append(추가_거치대개수 + tmp[\"보정거치대개수\"].iloc[0])"
   ]
  },
  {
   "cell_type": "code",
   "execution_count": 54,
   "metadata": {},
   "outputs": [],
   "source": [
    "대여소별특성6 = pd.DataFrame({\"대여소명\":대여소명,\"이회_보정거치대개수\":이회_보정거치대개수})"
   ]
  },
  {
   "cell_type": "code",
   "execution_count": 55,
   "metadata": {},
   "outputs": [],
   "source": [
    "통합데이터 = pd.merge(통합데이터,대여소별특성6, on=\"대여소명\")"
   ]
  },
  {
   "cell_type": "markdown",
   "metadata": {},
   "source": [
    "## 이회보정 후 보정거치초과율(보정거치초과율 재활용)"
   ]
  },
  {
   "cell_type": "code",
   "execution_count": 56,
   "metadata": {},
   "outputs": [],
   "source": [
    "통합데이터_피벗 = pd.merge(통합데이터_피벗, 대여소별특성6)"
   ]
  },
  {
   "cell_type": "code",
   "execution_count": 57,
   "metadata": {},
   "outputs": [],
   "source": [
    "이회_보정거치초과율 = []\n",
    "\n",
    "for i in 대여소명:\n",
    "    tmp = 통합데이터_피벗[통합데이터_피벗[\"대여소명\"] == i] \n",
    "    거치초과량 = len(tmp[tmp[\"거치수량\"] > tmp[\"이회_보정거치대개수\"].iloc[0]])\n",
    "    거치이하량 = len(tmp[tmp[\"거치수량\"] <= tmp[\"이회_보정거치대개수\"].iloc[0]])\n",
    "\n",
    "    이회_보정거치초과율.append(거치초과량/(거치초과량+거치이하량))"
   ]
  },
  {
   "cell_type": "code",
   "execution_count": 58,
   "metadata": {},
   "outputs": [],
   "source": [
    "대여소별특성7 = pd.DataFrame({\"대여소명\":대여소명,\"이회_보정거치초과율\":이회_보정거치초과율})"
   ]
  },
  {
   "cell_type": "markdown",
   "metadata": {},
   "source": [
    "## 대여소별특성 병합"
   ]
  },
  {
   "cell_type": "code",
   "execution_count": 59,
   "metadata": {},
   "outputs": [],
   "source": [
    "대여소별특성 = pd.merge(대여소별특성,대여소별특성7, on=\"대여소명\")"
   ]
  },
  {
   "cell_type": "code",
   "execution_count": 60,
   "metadata": {},
   "outputs": [],
   "source": [
    "대여소별특성 = pd.merge(대여소별특성,대여소별특성6, on=\"대여소명\")"
   ]
  },
  {
   "cell_type": "code",
   "execution_count": 61,
   "metadata": {},
   "outputs": [],
   "source": [
    "대여소별특성.sort_values(\"이회_보정거치초과율\",ascending=False, inplace=True)"
   ]
  },
  {
   "cell_type": "code",
   "execution_count": 62,
   "metadata": {},
   "outputs": [
    {
     "data": {
      "text/html": [
       "<div>\n",
       "<style scoped>\n",
       "    .dataframe tbody tr th:only-of-type {\n",
       "        vertical-align: middle;\n",
       "    }\n",
       "\n",
       "    .dataframe tbody tr th {\n",
       "        vertical-align: top;\n",
       "    }\n",
       "\n",
       "    .dataframe thead th {\n",
       "        text-align: right;\n",
       "    }\n",
       "</style>\n",
       "<table border=\"1\" class=\"dataframe\">\n",
       "  <thead>\n",
       "    <tr style=\"text-align: right;\">\n",
       "      <th></th>\n",
       "      <th>대여소명</th>\n",
       "      <th>거치초과율</th>\n",
       "      <th>거치대총개수</th>\n",
       "      <th>보정거치대개수</th>\n",
       "      <th>보정거치초과율</th>\n",
       "      <th>상관계수</th>\n",
       "      <th>반납율</th>\n",
       "      <th>대여율</th>\n",
       "      <th>이회_보정거치초과율</th>\n",
       "      <th>이회_보정거치대개수</th>\n",
       "    </tr>\n",
       "  </thead>\n",
       "  <tbody>\n",
       "    <tr>\n",
       "      <th>2</th>\n",
       "      <td>자양중앙나들목</td>\n",
       "      <td>0.625</td>\n",
       "      <td>5</td>\n",
       "      <td>14.0</td>\n",
       "      <td>0.416667</td>\n",
       "      <td>0.006752</td>\n",
       "      <td>0.564378</td>\n",
       "      <td>0.435622</td>\n",
       "      <td>0.25</td>\n",
       "      <td>16.0</td>\n",
       "    </tr>\n",
       "  </tbody>\n",
       "</table>\n",
       "</div>"
      ],
      "text/plain": [
       "      대여소명  거치초과율  거치대총개수  보정거치대개수   보정거치초과율      상관계수       반납율       대여율  \\\n",
       "2  자양중앙나들목  0.625       5     14.0  0.416667  0.006752  0.564378  0.435622   \n",
       "\n",
       "   이회_보정거치초과율  이회_보정거치대개수  \n",
       "2        0.25        16.0  "
      ]
     },
     "execution_count": 62,
     "metadata": {},
     "output_type": "execute_result"
    }
   ],
   "source": [
    "대여소별특성.head(1)"
   ]
  },
  {
   "cell_type": "code",
   "execution_count": 63,
   "metadata": {},
   "outputs": [],
   "source": [
    "대여소별특성 = 대여소별특성[[\"대여소명\",\"거치대총개수\",\"보정거치대개수\",\"이회_보정거치대개수\",\\\n",
    "              \"거치초과율\",\"보정거치초과율\",\"이회_보정거치초과율\",\"상관계수\",\"반납율\",\"대여율\"]]"
   ]
  },
  {
   "cell_type": "markdown",
   "metadata": {},
   "source": [
    "## (실험)그래프표현"
   ]
  },
  {
   "cell_type": "code",
   "execution_count": 66,
   "metadata": {},
   "outputs": [],
   "source": [
    "# 건국대학교 (행정관)\n",
    "행정관 = 통합데이터[통합데이터[\"대여소명\"] == \"건국대학교 (행정관)\"]\n",
    "y1= 행정관[\"거치대총개수\"].iloc[0]\n",
    "y2= 행정관[\"보정거치대개수\"].iloc[0]\n",
    "\n",
    "# 잠실대교북단 교차로\n",
    "교차로 = 통합데이터[통합데이터[\"대여소명\"] == \"잠실대교북단 교차로\"]\n",
    "y3= 교차로[\"보정거치대개수\"].iloc[0]\n",
    "y4= 교차로[\"이회_보정거치대개수\"].iloc[0]\n",
    "\n",
    "# 자양중앙나들목\n",
    "자양중앙나들목 = 통합데이터[통합데이터[\"대여소명\"] == \"자양중앙나들목\"]\n",
    "y5= 자양중앙나들목[\"거치대총개수\"].iloc[0]\n",
    "y6= 자양중앙나들목[\"보정거치대개수\"].iloc[0]\n",
    "y7= 자양중앙나들목[\"이회_보정거치대개수\"].iloc[0]\n",
    "\n",
    "# 건국대학교 (입학정보관)\n",
    "입학정보관 = 통합데이터[통합데이터[\"대여소명\"] == \"건국대학교 (입학정보관)\"]\n",
    "y8= 입학정보관[\"거치대총개수\"].iloc[0]\n",
    "y9= 입학정보관[\"이회_보정거치대개수\"].iloc[0]"
   ]
  },
  {
   "cell_type": "code",
   "execution_count": 67,
   "metadata": {},
   "outputs": [
    {
     "data": {
      "text/plain": [
       "<matplotlib.axes._subplots.AxesSubplot at 0x1ce5024ef98>"
      ]
     },
     "execution_count": 67,
     "metadata": {},
     "output_type": "execute_result"
    },
    {
     "data": {
      "image/png": "[encoded data removed]",
      "text/plain": [
       "<Figure size 720x576 with 4 Axes>"
      ]
     },
     "metadata": {
      "needs_background": "light"
     },
     "output_type": "display_data"
    }
   ],
   "source": [
    "# 다중그래프 그리기\n",
    "figure, ((ax1,ax2), (ax3,ax4)) = plt.subplots(nrows=2, ncols=2)\n",
    "\n",
    "figure.set_size_inches(10, 8)\n",
    "\n",
    "# 건국대학교 (행정관)\n",
    "ax1.axhline(y=y1,color=\"black\")\n",
    "ax1.axhline(y=6,color=\"red\")\n",
    "sns.barplot(data=행정관, x=\"시\", y=\"거치수량\",ax=ax1)\n",
    "\n",
    "# 잠실대교북단 교차로\n",
    "ax2.axhline(y=y3,color=\"black\")\n",
    "ax2.axhline(y=y4,color=\"red\")\n",
    "sns.barplot(data=교차로, x=\"시\", y=\"거치수량\",ax=ax2)\n",
    "\n",
    "# 자양중앙나들목\n",
    "ax3.axhline(y=y5,color=\"black\")\n",
    "ax3.axhline(y=y6,color=\"blue\")\n",
    "ax3.axhline(y=y7,color=\"red\")\n",
    "sns.barplot(data=자양중앙나들목, x=\"시\", y=\"거치수량\",ax=ax3)\n",
    "\n",
    "# 입학정보관\n",
    "ax4.axhline(y=y8,color=\"black\")\n",
    "ax4.axhline(y=y9,color=\"red\")\n",
    "sns.barplot(data=입학정보관, x=\"시\", y=\"거치수량\",ax=ax4)"
   ]
  },
  {
   "cell_type": "code",
   "execution_count": null,
   "metadata": {},
   "outputs": [],
   "source": []
  },
  {
   "cell_type": "code",
   "execution_count": null,
   "metadata": {},
   "outputs": [],
   "source": []
  },
  {
   "cell_type": "code",
   "execution_count": null,
   "metadata": {},
   "outputs": [],
   "source": []
  }
 ],
 "metadata": {
  "kernelspec": {
   "display_name": "Python 3",
   "language": "python",
   "name": "python3"
  },
  "language_info": {
   "codemirror_mode": {
    "name": "ipython",
    "version": 3
   },
   "file_extension": ".py",
   "mimetype": "text/x-python",
   "name": "python",
   "nbconvert_exporter": "python",
   "pygments_lexer": "ipython3",
   "version": "3.6.8"
  }
 },
 "nbformat": 4,
 "nbformat_minor": 2
}
